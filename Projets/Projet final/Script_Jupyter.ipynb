{
 "cells": [
  {
   "cell_type": "code",
   "execution_count": 3,
   "metadata": {},
   "outputs": [],
   "source": [
    "#IMPORTATION DE MODULES\n",
    "#from textblob import TextBlob\n",
    "import json"
   ]
  },
  {
   "cell_type": "code",
   "execution_count": 12,
   "metadata": {},
   "outputs": [
    {
     "ename": "FileNotFoundError",
     "evalue": "[Errno 2] No such file or directory: 'ZA.json'",
     "output_type": "error",
     "traceback": [
      "\u001b[0;31m---------------------------------------------------------------------------\u001b[0m",
      "\u001b[0;31mFileNotFoundError\u001b[0m                         Traceback (most recent call last)",
      "\u001b[1;32m/Users/jesse/Documents/COURS/S3/INFORMATIQUE/IN304/PROJET/Projet-1/Projets/Projet final/Script_Jupyter.ipynb Cell 2\u001b[0m line \u001b[0;36m5\n\u001b[1;32m     <a href='vscode-notebook-cell:/Users/jesse/Documents/COURS/S3/INFORMATIQUE/IN304/PROJET/Projet-1/Projets/Projet%20final/Script_Jupyter.ipynb#W1sZmlsZQ%3D%3D?line=52'>53</a>\u001b[0m             json\u001b[39m.\u001b[39mdump(tweet,json_file,indent\u001b[39m=\u001b[39m \u001b[39m4\u001b[39m) \u001b[39m# <-- la façon de rajouter n'est pas completement vrai \u001b[39;00m\n\u001b[1;32m     <a href='vscode-notebook-cell:/Users/jesse/Documents/COURS/S3/INFORMATIQUE/IN304/PROJET/Projet-1/Projets/Projet%20final/Script_Jupyter.ipynb#W1sZmlsZQ%3D%3D?line=54'>55</a>\u001b[0m \u001b[39m# Process chaque tweet:\u001b[39;00m\n\u001b[0;32m---> <a href='vscode-notebook-cell:/Users/jesse/Documents/COURS/S3/INFORMATIQUE/IN304/PROJET/Projet-1/Projets/Projet%20final/Script_Jupyter.ipynb#W1sZmlsZQ%3D%3D?line=56'>57</a>\u001b[0m \u001b[39mwith\u001b[39;00m \u001b[39mopen\u001b[39;49m (\u001b[39m'\u001b[39;49m\u001b[39mZA.json\u001b[39;49m\u001b[39m'\u001b[39;49m,\u001b[39m'\u001b[39;49m\u001b[39mr\u001b[39;49m\u001b[39m'\u001b[39;49m) \u001b[39mas\u001b[39;00m file:\n\u001b[1;32m     <a href='vscode-notebook-cell:/Users/jesse/Documents/COURS/S3/INFORMATIQUE/IN304/PROJET/Projet-1/Projets/Projet%20final/Script_Jupyter.ipynb#W1sZmlsZQ%3D%3D?line=57'>58</a>\u001b[0m     tweets \u001b[39m=\u001b[39m json\u001b[39m.\u001b[39mload(file)\n\u001b[1;32m     <a href='vscode-notebook-cell:/Users/jesse/Documents/COURS/S3/INFORMATIQUE/IN304/PROJET/Projet-1/Projets/Projet%20final/Script_Jupyter.ipynb#W1sZmlsZQ%3D%3D?line=60'>61</a>\u001b[0m \u001b[39mfor\u001b[39;00m tweet \u001b[39min\u001b[39;00m tweets:\n",
      "File \u001b[0;32m~/miniconda3/lib/python3.11/site-packages/IPython/core/interactiveshell.py:286\u001b[0m, in \u001b[0;36m_modified_open\u001b[0;34m(file, *args, **kwargs)\u001b[0m\n\u001b[1;32m    279\u001b[0m \u001b[39mif\u001b[39;00m file \u001b[39min\u001b[39;00m {\u001b[39m0\u001b[39m, \u001b[39m1\u001b[39m, \u001b[39m2\u001b[39m}:\n\u001b[1;32m    280\u001b[0m     \u001b[39mraise\u001b[39;00m \u001b[39mValueError\u001b[39;00m(\n\u001b[1;32m    281\u001b[0m         \u001b[39mf\u001b[39m\u001b[39m\"\u001b[39m\u001b[39mIPython won\u001b[39m\u001b[39m'\u001b[39m\u001b[39mt let you open fd=\u001b[39m\u001b[39m{\u001b[39;00mfile\u001b[39m}\u001b[39;00m\u001b[39m by default \u001b[39m\u001b[39m\"\u001b[39m\n\u001b[1;32m    282\u001b[0m         \u001b[39m\"\u001b[39m\u001b[39mas it is likely to crash IPython. If you know what you are doing, \u001b[39m\u001b[39m\"\u001b[39m\n\u001b[1;32m    283\u001b[0m         \u001b[39m\"\u001b[39m\u001b[39myou can use builtins\u001b[39m\u001b[39m'\u001b[39m\u001b[39m open.\u001b[39m\u001b[39m\"\u001b[39m\n\u001b[1;32m    284\u001b[0m     )\n\u001b[0;32m--> 286\u001b[0m \u001b[39mreturn\u001b[39;00m io_open(file, \u001b[39m*\u001b[39;49margs, \u001b[39m*\u001b[39;49m\u001b[39m*\u001b[39;49mkwargs)\n",
      "\u001b[0;31mFileNotFoundError\u001b[0m: [Errno 2] No such file or directory: 'ZA.json'"
     ]
    }
   ],
   "source": [
    "#PARTIE : CREATION DU TWEET + SOUMISSION DU TWEET DANS LANDING ZONE\n",
    "import re\n",
    "from textblob import TextBlob\n",
    "\n",
    "#Création d'une Classe Tweet à laquelle seront associées les attributs suivant : auteurs, hashtag, mentions, sentiments, (topics???)\n",
    "\n",
    "class Tweet: #Plan/Modèle\n",
    "    def __init__(self, auteur, contenu): #Méthode (assisstant qui aide à donner à chaque tweet ses attributs)\n",
    "        self.auteur = auteur\n",
    "        self.contenu = contenu\n",
    "        self.hashtags = self.Extraction_Hashtags()\n",
    "        self.mentions = self.Extraction_Mentions()\n",
    "        self.sentiment = self.Extraction_Sentiments()\n",
    "    \n",
    "    def Extraction_Sentiments(self): \n",
    "        \"\"\"Extrait le sentiment du texte\"\"\"\n",
    "        blob = TextBlob(self.contenu)\n",
    "        polarite =  blob.sentiment.polarity\n",
    "        if polarite > 0:\n",
    "            sentiment = 'positif'\n",
    "        elif polarite < 0:\n",
    "            sentiment = 'négatif'\n",
    "        elif polarite == 0:\n",
    "            sentiment = 'neutre'\n",
    "        return sentiment\n",
    "    \n",
    "    def Extraction_Hashtags():  #A Faire \n",
    "        \"\"\"\"\"\"\n",
    "        hashtags = re.findall(r'#\\w+', tweet)\n",
    "        return hashtags\n",
    "    \n",
    "    def Extraction_Mentions():  #A Faire\n",
    "        \"\"\"\"\"\"\n",
    "        return Mentions\n",
    "    \n",
    "\n",
    "def Nettoyage_Tweet(texte):\n",
    "    return Tweet_Propre\n",
    "\n",
    "\n",
    "\n",
    "def Zone_Atterisssage (Fichier):\n",
    "    \"\"\"Stockage du tweet dans le fichier json zone d'atterissage\"\"\"\n",
    "    with open(Fichier,\"r\") as file:\n",
    "        tweets = json.load(file)\n",
    "        \n",
    "    for infos_tweets in tweets:\n",
    "        auteur = infos_tweets.get(\"author_id\")\n",
    "        contenu = infos_tweets.get(\"text\")\n",
    "        # --> Utilisation def Nettoyage_Tweet\n",
    "        tweet = Tweet (auteur, contenu) # Utilisation de la class Tweet\n",
    "        with open ('ZA.json','a') as json_file: # création fichier json Zone Atterissage\n",
    "            json.dump(tweet,json_file,indent= 4) # <-- la façon de rajouter n'est pas completement vrai \n",
    "\n",
    "# Process chaque tweet:\n",
    "                \n",
    "with open ('ZA.json','r') as file:\n",
    "    tweets = json.load(file)\n",
    "\n",
    "\n",
    "for tweet in tweets:\n",
    "    print(f\"Auteur : {tweet.auteur}\")\n",
    "    print(f\"Contenu : {tweet.contenu}\")\n",
    "    print(f\"Hashtags : {tweet.hashtags}\")\n",
    "    print(f\"Mentions : {tweet.mentions}\")\n",
    "    print(f\"Sentiment : {tweet.sentiment}\")\n",
    "\n",
    "# --> il faut charger ces données dans une date frame : df = pd.DataFrame(tweets)\n",
    "\n",
    "\n",
    "\n",
    "\n"
   ]
  },
  {
   "cell_type": "code",
   "execution_count": null,
   "metadata": {},
   "outputs": [],
   "source": []
  },
  {
   "cell_type": "code",
   "execution_count": 7,
   "metadata": {},
   "outputs": [
    {
     "name": "stdout",
     "output_type": "stream",
     "text": [
      "0.0\n"
     ]
    }
   ],
   "source": [
    "from textblob import TextBlob\n",
    "test_blob = TextBlob(\"ILS SONT heureux\")\n",
    "print(test_blob.sentiment.polarity)"
   ]
  },
  {
   "cell_type": "code",
   "execution_count": 11,
   "metadata": {},
   "outputs": [
    {
     "name": "stdout",
     "output_type": "stream",
     "text": [
      "-1.0\n"
     ]
    }
   ],
   "source": [
    "from textblob import TextBlob\n",
    "\n",
    "text = \"Je déteste cet endroit. C'est horrible et très ennuyeux.\"\n",
    "normalized_text = text.lower()\n",
    "blob = TextBlob(normalized_text)\n",
    "print(blob.sentiment.polarity)"
   ]
  },
  {
   "cell_type": "code",
   "execution_count": null,
   "metadata": {},
   "outputs": [],
   "source": []
  }
 ],
 "metadata": {
  "kernelspec": {
   "display_name": "base",
   "language": "python",
   "name": "python3"
  },
  "language_info": {
   "codemirror_mode": {
    "name": "ipython",
    "version": 3
   },
   "file_extension": ".py",
   "mimetype": "text/x-python",
   "name": "python",
   "nbconvert_exporter": "python",
   "pygments_lexer": "ipython3",
   "version": "3.11.4"
  },
  "orig_nbformat": 4
 },
 "nbformat": 4,
 "nbformat_minor": 2
}
