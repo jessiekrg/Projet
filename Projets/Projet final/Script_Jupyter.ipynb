{
 "cells": [
  {
   "cell_type": "code",
   "execution_count": 1,
   "metadata": {},
   "outputs": [],
   "source": [
    "#IMPORTATION DE MODULES\n",
    "from textblob import TextBlob"
   ]
  },
  {
   "cell_type": "code",
   "execution_count": null,
   "metadata": {},
   "outputs": [],
   "source": [
    "#PARTIE : CREATION DU TWEET + SOUMISSION DU TWEET DANS LANDING ZONE\n",
    "\n",
    "#Création d'une Classe Tweet à laquelle seront associées les attributs suivant : auteurs, hashtag, mentions, sentiments, (topics???)\n",
    "\n",
    "class Tweet: #Plan/Modèle\n",
    "    def __init__(self, auteur, contenu): #Méthode (assisstant qui aide à donner à chaque tweet ses attributs)\n",
    "        self.auteur = auteur\n",
    "        self.contenu = contenu\n",
    "        self.hashtags = self.Extraction_Hashtags()\n",
    "        self.mentions = self.Extraction_Mentions()\n",
    "        self.sentiment = self.Extraction_Sentiments()\n",
    "    \n",
    "    def Extraction_Sentiments(): #A Faire (utilisation textblob)\n",
    "        \"\"\"\"\"\"\n",
    "        return sentiments\n",
    "    \n",
    "    def Extraction_Hashtags():  #A Faire \n",
    "        \"\"\"\"\"\"\n",
    "        return hashtags\n",
    "    \n",
    "    def Extraction_Mentions():  #A Faire\n",
    "        \"\"\"\"\"\"\n",
    "        return Mentions\n",
    "    \n",
    "\n",
    "def Nettoyage_Tweet():\n",
    "    return Tweet_Propre"
   ]
  }
 ],
 "metadata": {
  "kernelspec": {
   "display_name": "base",
   "language": "python",
   "name": "python3"
  },
  "language_info": {
   "codemirror_mode": {
    "name": "ipython",
    "version": 3
   },
   "file_extension": ".py",
   "mimetype": "text/x-python",
   "name": "python",
   "nbconvert_exporter": "python",
   "pygments_lexer": "ipython3",
   "version": "3.11.4"
  },
  "orig_nbformat": 4
 },
 "nbformat": 4,
 "nbformat_minor": 2
}
