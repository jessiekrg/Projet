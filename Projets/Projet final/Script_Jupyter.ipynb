{
 "cells": [
  {
   "cell_type": "code",
   "execution_count": null,
   "metadata": {},
   "outputs": [],
   "source": [
    "#IMPORTATION DE MODULES\n",
    "#from textblob import TextBlob\n",
    "import json"
   ]
  },
  {
   "cell_type": "code",
   "execution_count": 15,
   "metadata": {},
   "outputs": [
    {
     "ename": "SyntaxError",
     "evalue": "invalid syntax (515494132.py, line 26)",
     "output_type": "error",
     "traceback": [
      "\u001b[0;36m  Cell \u001b[0;32mIn[15], line 26\u001b[0;36m\u001b[0m\n\u001b[0;31m    def Extraction_Mentions(self.contenu):  #A Faire\u001b[0m\n\u001b[0m                                ^\u001b[0m\n\u001b[0;31mSyntaxError\u001b[0m\u001b[0;31m:\u001b[0m invalid syntax\n"
     ]
    }
   ],
   "source": [
    "#PARTIE : CREATION DU TWEET + SOUMISSION DU TWEET DANS LANDING ZONE\n",
    "import re\n",
    "from textblob import TextBlob\n",
    "import string\n",
    "\n",
    "\n",
    "#Création d'une Classe Tweet à laquelle seront associées les attributs suivant : auteurs, hashtag, mentions, sentiments, (topics???)\n",
    "\n",
    "class Tweet: #Plan/Modèle\n",
    "    def __init__(self, auteur, contenu): #Méthode (assisstant qui aide à donner à chaque tweet ses attributs)\n",
    "        self.auteur = auteur\n",
    "        self.contenu = contenu\n",
    "        self.hashtags = self.Extraction_Hashtags()\n",
    "        self.mentions = self.Extraction_Mentions()\n",
    "        self.sentiment = self.Extraction_Sentiments()\n",
    "    \n",
    "    def Extraction_Sentiments(self): #A Faire (utilisation textblob)\n",
    "        \"\"\"\"\"\"\n",
    "        return sentiments\n",
    "    \n",
    "    def Extraction_Hashtags():  #A Faire \n",
    "        \"\"\"\"\"\"\n",
    "        hashtags = re.findall(r'#\\w+', tweet)\n",
    "        return hashtags\n",
    "    \n",
    "    def Extraction_Mentions(self.contenu):  #A Faire\n",
    "        \"\"\"Fonction qui extrait les mentions de personnes dans un tweet\"\"\"\n",
    "        mentions = re.findall(r'@[A-Za-z0-9_]+',self)\n",
    "\n",
    "        return mentions\n",
    "    \n",
    "\n",
    "def Nettoyage_Tweet(self.contenu):\n",
    "    \"\"\"Fonction qui supprime les caractères spéciaux d'un tweet\"\"\"\n",
    "    enlever_speciaux = re.sub(r'[^a-zA-Z0-9\\s@#]', '', self)\n",
    "    return enlever_speciaux\n",
    "\n",
    "\n",
    "\n",
    "def Zone_Atterisssage (Fichier):\n",
    "    \"\"\"Stockage du tweet dans le fichier json zone d'atterissage\"\"\"\n",
    "    \n",
    "    ZA=[]\n",
    "    \n",
    "    with open (Fichier,'r',encoding='utf-8') as f:\n",
    "        donnee= json.load(f)\n",
    "    \n",
    "    for infos_tweets in donnee:\n",
    "        auteur = infos_tweets.get(\"author_id\")\n",
    "        contenu = infos_tweets.get(\"text\")\n",
    "        tweet_auteur = {\n",
    "            \"id\": auteur,\n",
    "            \"tweet\": Nettoyage_Tweet(contenu)\n",
    "        }\n",
    "        ZA.append(tweet_auteur)\n",
    "\n",
    "    with open('ZA.json','w', encoding='utf-8') as f:\n",
    "        json.dump(ZA, f, indent=4, ensure_ascii=False)\n",
    "\n",
    "           \n",
    "        \n",
    "#tweet = Tweet (auteur, contenu) # Utilisation de la class Tweet\n",
    "        \n",
    "\n",
    "# Process chaque tweet:\n",
    "                \n",
    "with open ('ZA.json','r') as file:\n",
    "    tweets = json.load(file)\n",
    "\n",
    "\n",
    "for tweet in tweets:\n",
    "    print(f\"Auteur : {tweet.auteur}\")\n",
    "    print(f\"Contenu : {tweet.contenu}\")\n",
    "    print(f\"Hashtags : {tweet.hashtags}\")\n",
    "    print(f\"Mentions : {tweet.mentions}\")\n",
    "    print(f\"Sentiment : {tweet.sentiment}\")\n",
    "\n",
    "# --> il faut charger ces données dans une date frame : df = pd.DataFrame(tweets)\n",
    "\n",
    "# yo\n",
    "\n",
    "\n"
   ]
  },
  {
   "cell_type": "code",
   "execution_count": 13,
   "metadata": {},
   "outputs": [
    {
     "data": {
      "text/plain": [
       "'Goumin des lphants joueurs la mme fatigue mme  #twitter225'"
      ]
     },
     "execution_count": 13,
     "metadata": {},
     "output_type": "execute_result"
    }
   ],
   "source": [
    "\n",
    "def Nettoyage_Tweet(tweet):\n",
    "    enlever_speciaux = re.sub(r'[^a-zA-Z0-9\\s@#]', '', tweet)\n",
    "    return enlever_speciaux\n",
    "\n",
    "Nettoyage_Tweet(\"Goumin des éléphants joueurs la même fatigue même 😫 #twitter225\")"
   ]
  }
 ],
 "metadata": {
  "kernelspec": {
   "display_name": "base",
   "language": "python",
   "name": "python3"
  },
  "language_info": {
   "codemirror_mode": {
    "name": "ipython",
    "version": 3
   },
   "file_extension": ".py",
   "mimetype": "text/x-python",
   "name": "python",
   "nbconvert_exporter": "python",
   "pygments_lexer": "ipython3",
   "version": "3.11.4"
  },
  "orig_nbformat": 4
 },
 "nbformat": 4,
 "nbformat_minor": 2
}
